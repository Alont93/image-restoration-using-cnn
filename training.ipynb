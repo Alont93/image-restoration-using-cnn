{
  "nbformat": 4,
  "nbformat_minor": 0,
  "metadata": {
    "colab": {
      "name": "Copy of GPU.ipynb",
      "provenance": [],
      "collapsed_sections": []
    },
    "kernelspec": {
      "name": "python3",
      "display_name": "Python 3"
    },
    "accelerator": "GPU"
  },
  "cells": [
    {
      "cell_type": "code",
      "metadata": {
        "id": "BT_JDQ3BYiof",
        "colab_type": "code",
        "outputId": "bc535e79-db06-4882-b651-f2dbd2c583ef",
        "colab": {
          "base_uri": "https://localhost:8080/",
          "height": 127
        }
      },
      "source": [
        "from google.colab import drive\n",
        "drive.mount('/content/drive', force_remount=True)\n",
        "import os\n",
        "os.chdir('/content/drive/My Drive/Colab Notebooks')"
      ],
      "execution_count": 0,
      "outputs": [
        {
          "output_type": "stream",
          "text": [
            "Go to this URL in a browser: https://accounts.google.com/o/oauth2/auth?client_id=947318989803-6bn6qk8qdgf4n4g3pfee6491hc0brc4i.apps.googleusercontent.com&redirect_uri=urn%3Aietf%3Awg%3Aoauth%3A2.0%3Aoob&scope=email%20https%3A%2F%2Fwww.googleapis.com%2Fauth%2Fdocs.test%20https%3A%2F%2Fwww.googleapis.com%2Fauth%2Fdrive%20https%3A%2F%2Fwww.googleapis.com%2Fauth%2Fdrive.photos.readonly%20https%3A%2F%2Fwww.googleapis.com%2Fauth%2Fpeopleapi.readonly&response_type=code\n",
            "\n",
            "Enter your authorization code:\n",
            "··········\n",
            "Mounted at /content/drive\n"
          ],
          "name": "stdout"
        }
      ]
    },
    {
      "cell_type": "code",
      "metadata": {
        "id": "Rbzr7A7xyko1",
        "colab_type": "code",
        "outputId": "72e413a7-3eda-4c4b-c862-ac29c60d66d4",
        "colab": {
          "base_uri": "https://localhost:8080/",
          "height": 1355
        }
      },
      "source": [
        "from sol5 import *\n",
        "import matplotlib.pyplot as plt\n",
        "\n",
        "err = []\n",
        "\n",
        "for i in range(1, 6):\n",
        "    print('#########################   ' + str(i) + '   #########################')\n",
        "    model = learn_denoising_model(i, False)\n",
        "    err.append(model.history.history['val_loss'][-1])\n",
        "\n",
        "print(err)\n",
        "\n",
        "plt.plot(err)\n",
        "plt.show()"
      ],
      "execution_count": 0,
      "outputs": [
        {
          "output_type": "stream",
          "text": [
            "#########################   1   #########################\n",
            "Epoch 1/5\n",
            "100/100 [==============================] - 48s 483ms/step - loss: 0.4217 - val_loss: 0.3204\n",
            "Epoch 2/5\n",
            "100/100 [==============================] - 45s 454ms/step - loss: 0.3254 - val_loss: 0.2783\n",
            "Epoch 3/5\n",
            "100/100 [==============================] - 45s 454ms/step - loss: 0.2949 - val_loss: 0.2571\n",
            "Epoch 4/5\n",
            "100/100 [==============================] - 45s 454ms/step - loss: 0.2751 - val_loss: 0.2577\n",
            "Epoch 5/5\n",
            "100/100 [==============================] - 45s 454ms/step - loss: 0.2630 - val_loss: 0.2434\n",
            "#########################   2   #########################\n",
            "Epoch 1/5\n",
            "100/100 [==============================] - 50s 504ms/step - loss: 0.4197 - val_loss: 0.2957\n",
            "Epoch 2/5\n",
            "100/100 [==============================] - 47s 467ms/step - loss: 0.2902 - val_loss: 0.2607\n",
            "Epoch 3/5\n",
            "100/100 [==============================] - 47s 468ms/step - loss: 0.2732 - val_loss: 0.2476\n",
            "Epoch 4/5\n",
            "100/100 [==============================] - 47s 468ms/step - loss: 0.2579 - val_loss: 0.2354\n",
            "Epoch 5/5\n",
            "100/100 [==============================] - 47s 467ms/step - loss: 0.2728 - val_loss: 0.2383\n",
            "#########################   3   #########################\n",
            "Epoch 1/5\n",
            "100/100 [==============================] - 52s 517ms/step - loss: 0.6543 - val_loss: 0.3146\n",
            "Epoch 2/5\n",
            "100/100 [==============================] - 48s 483ms/step - loss: 0.2981 - val_loss: 0.2571\n",
            "Epoch 3/5\n",
            "100/100 [==============================] - 48s 481ms/step - loss: 0.2660 - val_loss: 0.2378\n",
            "Epoch 4/5\n",
            "100/100 [==============================] - 48s 483ms/step - loss: 0.2688 - val_loss: 0.2405\n",
            "Epoch 5/5\n",
            "100/100 [==============================] - 48s 481ms/step - loss: 0.2588 - val_loss: 0.2300\n",
            "#########################   4   #########################\n",
            "Epoch 1/5\n",
            "100/100 [==============================] - 54s 537ms/step - loss: 0.5205 - val_loss: 0.2940\n",
            "Epoch 2/5\n",
            "100/100 [==============================] - 50s 498ms/step - loss: 0.2803 - val_loss: 0.2395\n",
            "Epoch 3/5\n",
            "100/100 [==============================] - 50s 500ms/step - loss: 0.2700 - val_loss: 0.2321\n",
            "Epoch 4/5\n",
            "100/100 [==============================] - 50s 496ms/step - loss: 0.2576 - val_loss: 0.2282\n",
            "Epoch 5/5\n",
            "100/100 [==============================] - 49s 493ms/step - loss: 0.2535 - val_loss: 0.2239\n",
            "#########################   5   #########################\n",
            "Epoch 1/5\n",
            "100/100 [==============================] - 56s 561ms/step - loss: 0.4700 - val_loss: 0.2841\n",
            "Epoch 2/5\n",
            "100/100 [==============================] - 52s 515ms/step - loss: 0.2830 - val_loss: 0.2494\n",
            "Epoch 3/5\n",
            "100/100 [==============================] - 52s 518ms/step - loss: 0.2843 - val_loss: 0.2303\n",
            "Epoch 4/5\n",
            "100/100 [==============================] - 51s 514ms/step - loss: 0.2427 - val_loss: 0.2226\n",
            "Epoch 5/5\n",
            "100/100 [==============================] - 52s 515ms/step - loss: 0.2910 - val_loss: 0.2218\n",
            "[0.24340667708218097, 0.23825832056999208, 0.23002935126423835, 0.22391051813960075, 0.22180623616278172]\n"
          ],
          "name": "stdout"
        },
        {
          "output_type": "display_data",
          "data": {
            "image/png": "[encoded data removed]",
            "text/plain": [
              "<matplotlib.figure.Figure at 0x7f9cf60fd358>"
            ]
          },
          "metadata": {
            "tags": []
          }
        }
      ]
    }
  ]
}